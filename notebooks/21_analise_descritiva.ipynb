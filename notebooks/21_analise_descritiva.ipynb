{
 "cells": [
  {
   "cell_type": "markdown",
   "metadata": {},
   "source": [
    "---\n",
    "title: Análise descritiva de dados\n",
    "order: 211\n",
    "execute:\n",
    "    enabled: true\n",
    "---\n",
    "\n",
    "Dados retirado de <https://dadosabertos.camara.leg.br/swagger/api.html?tab=staticfile>"
   ]
  },
  {
   "cell_type": "code",
   "execution_count": 1,
   "metadata": {},
   "outputs": [],
   "source": [
    "# | echo: false\n",
    "\n",
    "# sobe o diretório se executado como notebook\n",
    "import os\n",
    "if os.environ.get(\"QUARTO_PROJECT_ROOT\") is None:\n",
    "    os.chdir(os.path.join(os.getcwd(), \"..\"))"
   ]
  },
  {
   "cell_type": "code",
   "execution_count": 2,
   "metadata": {
    "executionInfo": {
     "elapsed": 11,
     "status": "ok",
     "timestamp": 1748287004827,
     "user": {
      "displayName": "Kelly Lima",
      "userId": "07502747413324583147"
     },
     "user_tz": 180
    },
    "id": "sYSrZ3l2Boqj"
   },
   "outputs": [],
   "source": [
    "import pandas as pd"
   ]
  },
  {
   "cell_type": "code",
   "execution_count": 3,
   "metadata": {
    "colab": {
     "base_uri": "https://localhost:8080/",
     "height": 502
    },
    "executionInfo": {
     "elapsed": 601,
     "status": "ok",
     "timestamp": 1748287237425,
     "user": {
      "displayName": "Kelly Lima",
      "userId": "07502747413324583147"
     },
     "user_tz": 180
    },
    "id": "_fFFFSYVBqPH",
    "outputId": "6f7dbc5a-7851-4f7b-aa67-fb64bcaf7aeb"
   },
   "outputs": [
    {
     "data": {
      "text/html": [
       "<div>\n",
       "<style scoped>\n",
       "    .dataframe tbody tr th:only-of-type {\n",
       "        vertical-align: middle;\n",
       "    }\n",
       "\n",
       "    .dataframe tbody tr th {\n",
       "        vertical-align: top;\n",
       "    }\n",
       "\n",
       "    .dataframe thead th {\n",
       "        text-align: right;\n",
       "    }\n",
       "</style>\n",
       "<table border=\"1\" class=\"dataframe\">\n",
       "  <thead>\n",
       "    <tr style=\"text-align: right;\">\n",
       "      <th></th>\n",
       "      <th>txNomeParlamentar</th>\n",
       "      <th>cpf</th>\n",
       "      <th>ideCadastro</th>\n",
       "      <th>nuCarteiraParlamentar</th>\n",
       "      <th>nuLegislatura</th>\n",
       "      <th>sgUF</th>\n",
       "      <th>sgPartido</th>\n",
       "      <th>codLegislatura</th>\n",
       "      <th>numSubCota</th>\n",
       "      <th>txtDescricao</th>\n",
       "      <th>...</th>\n",
       "      <th>numParcela</th>\n",
       "      <th>txtPassageiro</th>\n",
       "      <th>txtTrecho</th>\n",
       "      <th>numLote</th>\n",
       "      <th>numRessarcimento</th>\n",
       "      <th>datPagamentoRestituicao</th>\n",
       "      <th>vlrRestituicao</th>\n",
       "      <th>nuDeputadoId</th>\n",
       "      <th>ideDocumento</th>\n",
       "      <th>urlDocumento</th>\n",
       "    </tr>\n",
       "  </thead>\n",
       "  <tbody>\n",
       "    <tr>\n",
       "      <th>0</th>\n",
       "      <td>LID.GOV-CD</td>\n",
       "      <td>NaN</td>\n",
       "      <td>NaN</td>\n",
       "      <td>NaN</td>\n",
       "      <td>2023</td>\n",
       "      <td>NaN</td>\n",
       "      <td>NaN</td>\n",
       "      <td>57</td>\n",
       "      <td>1</td>\n",
       "      <td>MANUTENÇÃO DE ESCRITÓRIO DE APOIO À ATIVIDADE ...</td>\n",
       "      <td>...</td>\n",
       "      <td>0</td>\n",
       "      <td>NaN</td>\n",
       "      <td>NaN</td>\n",
       "      <td>2115566</td>\n",
       "      <td>NaN</td>\n",
       "      <td>NaN</td>\n",
       "      <td>NaN</td>\n",
       "      <td>2812</td>\n",
       "      <td>7877589</td>\n",
       "      <td>https://www.camara.leg.br/cota-parlamentar/doc...</td>\n",
       "    </tr>\n",
       "    <tr>\n",
       "      <th>1</th>\n",
       "      <td>LID.GOV-CD</td>\n",
       "      <td>NaN</td>\n",
       "      <td>NaN</td>\n",
       "      <td>NaN</td>\n",
       "      <td>2023</td>\n",
       "      <td>NaN</td>\n",
       "      <td>NaN</td>\n",
       "      <td>57</td>\n",
       "      <td>1</td>\n",
       "      <td>MANUTENÇÃO DE ESCRITÓRIO DE APOIO À ATIVIDADE ...</td>\n",
       "      <td>...</td>\n",
       "      <td>0</td>\n",
       "      <td>NaN</td>\n",
       "      <td>NaN</td>\n",
       "      <td>2123760</td>\n",
       "      <td>NaN</td>\n",
       "      <td>NaN</td>\n",
       "      <td>NaN</td>\n",
       "      <td>2812</td>\n",
       "      <td>7892756</td>\n",
       "      <td>https://www.camara.leg.br/cota-parlamentar/doc...</td>\n",
       "    </tr>\n",
       "    <tr>\n",
       "      <th>2</th>\n",
       "      <td>LID.GOV-CD</td>\n",
       "      <td>NaN</td>\n",
       "      <td>NaN</td>\n",
       "      <td>NaN</td>\n",
       "      <td>2023</td>\n",
       "      <td>NaN</td>\n",
       "      <td>NaN</td>\n",
       "      <td>57</td>\n",
       "      <td>1</td>\n",
       "      <td>MANUTENÇÃO DE ESCRITÓRIO DE APOIO À ATIVIDADE ...</td>\n",
       "      <td>...</td>\n",
       "      <td>0</td>\n",
       "      <td>NaN</td>\n",
       "      <td>NaN</td>\n",
       "      <td>2131750</td>\n",
       "      <td>NaN</td>\n",
       "      <td>NaN</td>\n",
       "      <td>NaN</td>\n",
       "      <td>2812</td>\n",
       "      <td>7907982</td>\n",
       "      <td>https://www.camara.leg.br/cota-parlamentar/doc...</td>\n",
       "    </tr>\n",
       "    <tr>\n",
       "      <th>3</th>\n",
       "      <td>LID.GOV-CD</td>\n",
       "      <td>NaN</td>\n",
       "      <td>NaN</td>\n",
       "      <td>NaN</td>\n",
       "      <td>2023</td>\n",
       "      <td>NaN</td>\n",
       "      <td>NaN</td>\n",
       "      <td>57</td>\n",
       "      <td>1</td>\n",
       "      <td>MANUTENÇÃO DE ESCRITÓRIO DE APOIO À ATIVIDADE ...</td>\n",
       "      <td>...</td>\n",
       "      <td>0</td>\n",
       "      <td>NaN</td>\n",
       "      <td>NaN</td>\n",
       "      <td>2106570</td>\n",
       "      <td>NaN</td>\n",
       "      <td>NaN</td>\n",
       "      <td>NaN</td>\n",
       "      <td>2812</td>\n",
       "      <td>7862329</td>\n",
       "      <td>https://www.camara.leg.br/cota-parlamentar/not...</td>\n",
       "    </tr>\n",
       "  </tbody>\n",
       "</table>\n",
       "<p>4 rows × 32 columns</p>\n",
       "</div>"
      ],
      "text/plain": [
       "  txNomeParlamentar  cpf  ideCadastro  nuCarteiraParlamentar  nuLegislatura  \\\n",
       "0        LID.GOV-CD  NaN          NaN                    NaN           2023   \n",
       "1        LID.GOV-CD  NaN          NaN                    NaN           2023   \n",
       "2        LID.GOV-CD  NaN          NaN                    NaN           2023   \n",
       "3        LID.GOV-CD  NaN          NaN                    NaN           2023   \n",
       "\n",
       "  sgUF sgPartido  codLegislatura  numSubCota  \\\n",
       "0  NaN       NaN              57           1   \n",
       "1  NaN       NaN              57           1   \n",
       "2  NaN       NaN              57           1   \n",
       "3  NaN       NaN              57           1   \n",
       "\n",
       "                                        txtDescricao  ...  numParcela  \\\n",
       "0  MANUTENÇÃO DE ESCRITÓRIO DE APOIO À ATIVIDADE ...  ...           0   \n",
       "1  MANUTENÇÃO DE ESCRITÓRIO DE APOIO À ATIVIDADE ...  ...           0   \n",
       "2  MANUTENÇÃO DE ESCRITÓRIO DE APOIO À ATIVIDADE ...  ...           0   \n",
       "3  MANUTENÇÃO DE ESCRITÓRIO DE APOIO À ATIVIDADE ...  ...           0   \n",
       "\n",
       "  txtPassageiro txtTrecho  numLote numRessarcimento  datPagamentoRestituicao  \\\n",
       "0           NaN       NaN  2115566              NaN                      NaN   \n",
       "1           NaN       NaN  2123760              NaN                      NaN   \n",
       "2           NaN       NaN  2131750              NaN                      NaN   \n",
       "3           NaN       NaN  2106570              NaN                      NaN   \n",
       "\n",
       "  vlrRestituicao  nuDeputadoId  ideDocumento  \\\n",
       "0            NaN          2812       7877589   \n",
       "1            NaN          2812       7892756   \n",
       "2            NaN          2812       7907982   \n",
       "3            NaN          2812       7862329   \n",
       "\n",
       "                                        urlDocumento  \n",
       "0  https://www.camara.leg.br/cota-parlamentar/doc...  \n",
       "1  https://www.camara.leg.br/cota-parlamentar/doc...  \n",
       "2  https://www.camara.leg.br/cota-parlamentar/doc...  \n",
       "3  https://www.camara.leg.br/cota-parlamentar/not...  \n",
       "\n",
       "[4 rows x 32 columns]"
      ]
     },
     "metadata": {},
     "output_type": "display_data"
    }
   ],
   "source": [
    "dados = pd.read_csv(\n",
    "    \"dados/Ano-2025.csv\", sep=\";\", encoding=\"utf-8\", decimal=\".\", low_memory=False\n",
    ")\n",
    "display(dados.head(4))"
   ]
  },
  {
   "cell_type": "code",
   "execution_count": 4,
   "metadata": {
    "executionInfo": {
     "elapsed": 20,
     "status": "ok",
     "timestamp": 1748288195526,
     "user": {
      "displayName": "Kelly Lima",
      "userId": "07502747413324583147"
     },
     "user_tz": 180
    },
    "id": "rrQjTbZYGC05"
   },
   "outputs": [],
   "source": [
    "dados = dados[dados['sgUF'] == 'PI']"
   ]
  },
  {
   "cell_type": "code",
   "execution_count": 5,
   "metadata": {
    "colab": {
     "base_uri": "https://localhost:8080/",
     "height": 1000
    },
    "executionInfo": {
     "elapsed": 16,
     "status": "ok",
     "timestamp": 1748288201089,
     "user": {
      "displayName": "Kelly Lima",
      "userId": "07502747413324583147"
     },
     "user_tz": 180
    },
    "id": "Cfx2TbYKCOGq",
    "outputId": "e6123c78-5066-4b8c-cc1c-6e6e2cf7a646"
   },
   "outputs": [
    {
     "data": {
      "text/plain": [
       "txNomeParlamentar             object\n",
       "cpf                          float64\n",
       "ideCadastro                  float64\n",
       "nuCarteiraParlamentar        float64\n",
       "nuLegislatura                  int64\n",
       "sgUF                          object\n",
       "sgPartido                     object\n",
       "codLegislatura                 int64\n",
       "numSubCota                     int64\n",
       "txtDescricao                  object\n",
       "numEspecificacaoSubCota        int64\n",
       "txtDescricaoEspecificacao     object\n",
       "txtFornecedor                 object\n",
       "txtCNPJCPF                    object\n",
       "txtNumero                     object\n",
       "indTipoDocumento               int64\n",
       "datEmissao                    object\n",
       "vlrDocumento                 float64\n",
       "vlrGlosa                     float64\n",
       "vlrLiquido                   float64\n",
       "numMes                         int64\n",
       "numAno                         int64\n",
       "numParcela                     int64\n",
       "txtPassageiro                 object\n",
       "txtTrecho                     object\n",
       "numLote                        int64\n",
       "numRessarcimento             float64\n",
       "datPagamentoRestituicao       object\n",
       "vlrRestituicao               float64\n",
       "nuDeputadoId                   int64\n",
       "ideDocumento                   int64\n",
       "urlDocumento                  object\n",
       "dtype: object"
      ]
     },
     "metadata": {},
     "output_type": "display_data"
    }
   ],
   "source": [
    "display(dados.dtypes)"
   ]
  },
  {
   "cell_type": "code",
   "execution_count": 6,
   "metadata": {
    "colab": {
     "base_uri": "https://localhost:8080/",
     "height": 502
    },
    "executionInfo": {
     "elapsed": 38,
     "status": "ok",
     "timestamp": 1748288204454,
     "user": {
      "displayName": "Kelly Lima",
      "userId": "07502747413324583147"
     },
     "user_tz": 180
    },
    "id": "J-NJQJmxCN9N",
    "outputId": "2a8646a6-dbcc-4e99-90ab-9209c99d5f16"
   },
   "outputs": [
    {
     "data": {
      "text/html": [
       "<div>\n",
       "<style scoped>\n",
       "    .dataframe tbody tr th:only-of-type {\n",
       "        vertical-align: middle;\n",
       "    }\n",
       "\n",
       "    .dataframe tbody tr th {\n",
       "        vertical-align: top;\n",
       "    }\n",
       "\n",
       "    .dataframe thead th {\n",
       "        text-align: right;\n",
       "    }\n",
       "</style>\n",
       "<table border=\"1\" class=\"dataframe\">\n",
       "  <thead>\n",
       "    <tr style=\"text-align: right;\">\n",
       "      <th></th>\n",
       "      <th>txnomeparlamentar</th>\n",
       "      <th>cpf</th>\n",
       "      <th>idecadastro</th>\n",
       "      <th>nucarteiraparlamentar</th>\n",
       "      <th>nulegislatura</th>\n",
       "      <th>sguf</th>\n",
       "      <th>sgpartido</th>\n",
       "      <th>codlegislatura</th>\n",
       "      <th>numsubcota</th>\n",
       "      <th>txtdescricao</th>\n",
       "      <th>...</th>\n",
       "      <th>numparcela</th>\n",
       "      <th>txtpassageiro</th>\n",
       "      <th>txttrecho</th>\n",
       "      <th>numlote</th>\n",
       "      <th>numressarcimento</th>\n",
       "      <th>datpagamentorestituicao</th>\n",
       "      <th>vlrrestituicao</th>\n",
       "      <th>nudeputadoid</th>\n",
       "      <th>idedocumento</th>\n",
       "      <th>urldocumento</th>\n",
       "    </tr>\n",
       "  </thead>\n",
       "  <tbody>\n",
       "    <tr>\n",
       "      <th>478</th>\n",
       "      <td>Julio Arcoverde</td>\n",
       "      <td>77309766768.0000</td>\n",
       "      <td>66385.0000</td>\n",
       "      <td>118.0000</td>\n",
       "      <td>2023</td>\n",
       "      <td>PI</td>\n",
       "      <td>PP</td>\n",
       "      <td>57</td>\n",
       "      <td>1</td>\n",
       "      <td>MANUTENÇÃO DE ESCRITÓRIO DE APOIO À ATIVIDADE ...</td>\n",
       "      <td>...</td>\n",
       "      <td>0</td>\n",
       "      <td>NaN</td>\n",
       "      <td>NaN</td>\n",
       "      <td>2107978</td>\n",
       "      <td>NaN</td>\n",
       "      <td>NaN</td>\n",
       "      <td>NaN</td>\n",
       "      <td>3692</td>\n",
       "      <td>7864666</td>\n",
       "      <td>https://www.camara.leg.br/cota-parlamentar/doc...</td>\n",
       "    </tr>\n",
       "    <tr>\n",
       "      <th>479</th>\n",
       "      <td>Julio Arcoverde</td>\n",
       "      <td>77309766768.0000</td>\n",
       "      <td>66385.0000</td>\n",
       "      <td>118.0000</td>\n",
       "      <td>2023</td>\n",
       "      <td>PI</td>\n",
       "      <td>PP</td>\n",
       "      <td>57</td>\n",
       "      <td>1</td>\n",
       "      <td>MANUTENÇÃO DE ESCRITÓRIO DE APOIO À ATIVIDADE ...</td>\n",
       "      <td>...</td>\n",
       "      <td>0</td>\n",
       "      <td>NaN</td>\n",
       "      <td>NaN</td>\n",
       "      <td>2125741</td>\n",
       "      <td>NaN</td>\n",
       "      <td>NaN</td>\n",
       "      <td>NaN</td>\n",
       "      <td>3692</td>\n",
       "      <td>7896334</td>\n",
       "      <td>https://www.camara.leg.br/cota-parlamentar/doc...</td>\n",
       "    </tr>\n",
       "    <tr>\n",
       "      <th>480</th>\n",
       "      <td>Julio Arcoverde</td>\n",
       "      <td>77309766768.0000</td>\n",
       "      <td>66385.0000</td>\n",
       "      <td>118.0000</td>\n",
       "      <td>2023</td>\n",
       "      <td>PI</td>\n",
       "      <td>PP</td>\n",
       "      <td>57</td>\n",
       "      <td>1</td>\n",
       "      <td>MANUTENÇÃO DE ESCRITÓRIO DE APOIO À ATIVIDADE ...</td>\n",
       "      <td>...</td>\n",
       "      <td>0</td>\n",
       "      <td>NaN</td>\n",
       "      <td>NaN</td>\n",
       "      <td>2115942</td>\n",
       "      <td>NaN</td>\n",
       "      <td>NaN</td>\n",
       "      <td>NaN</td>\n",
       "      <td>3692</td>\n",
       "      <td>7878276</td>\n",
       "      <td>https://www.camara.leg.br/cota-parlamentar/doc...</td>\n",
       "    </tr>\n",
       "    <tr>\n",
       "      <th>481</th>\n",
       "      <td>Julio Arcoverde</td>\n",
       "      <td>77309766768.0000</td>\n",
       "      <td>66385.0000</td>\n",
       "      <td>118.0000</td>\n",
       "      <td>2023</td>\n",
       "      <td>PI</td>\n",
       "      <td>PP</td>\n",
       "      <td>57</td>\n",
       "      <td>1</td>\n",
       "      <td>MANUTENÇÃO DE ESCRITÓRIO DE APOIO À ATIVIDADE ...</td>\n",
       "      <td>...</td>\n",
       "      <td>0</td>\n",
       "      <td>NaN</td>\n",
       "      <td>NaN</td>\n",
       "      <td>2135533</td>\n",
       "      <td>NaN</td>\n",
       "      <td>NaN</td>\n",
       "      <td>NaN</td>\n",
       "      <td>3692</td>\n",
       "      <td>7914836</td>\n",
       "      <td>https://www.camara.leg.br/cota-parlamentar/doc...</td>\n",
       "    </tr>\n",
       "  </tbody>\n",
       "</table>\n",
       "<p>4 rows × 32 columns</p>\n",
       "</div>"
      ],
      "text/plain": [
       "    txnomeparlamentar              cpf  idecadastro  nucarteiraparlamentar  \\\n",
       "478   Julio Arcoverde 77309766768.0000   66385.0000               118.0000   \n",
       "479   Julio Arcoverde 77309766768.0000   66385.0000               118.0000   \n",
       "480   Julio Arcoverde 77309766768.0000   66385.0000               118.0000   \n",
       "481   Julio Arcoverde 77309766768.0000   66385.0000               118.0000   \n",
       "\n",
       "     nulegislatura sguf sgpartido  codlegislatura  numsubcota  \\\n",
       "478           2023   PI        PP              57           1   \n",
       "479           2023   PI        PP              57           1   \n",
       "480           2023   PI        PP              57           1   \n",
       "481           2023   PI        PP              57           1   \n",
       "\n",
       "                                          txtdescricao  ...  numparcela  \\\n",
       "478  MANUTENÇÃO DE ESCRITÓRIO DE APOIO À ATIVIDADE ...  ...           0   \n",
       "479  MANUTENÇÃO DE ESCRITÓRIO DE APOIO À ATIVIDADE ...  ...           0   \n",
       "480  MANUTENÇÃO DE ESCRITÓRIO DE APOIO À ATIVIDADE ...  ...           0   \n",
       "481  MANUTENÇÃO DE ESCRITÓRIO DE APOIO À ATIVIDADE ...  ...           0   \n",
       "\n",
       "    txtpassageiro txttrecho  numlote numressarcimento  \\\n",
       "478           NaN       NaN  2107978              NaN   \n",
       "479           NaN       NaN  2125741              NaN   \n",
       "480           NaN       NaN  2115942              NaN   \n",
       "481           NaN       NaN  2135533              NaN   \n",
       "\n",
       "     datpagamentorestituicao vlrrestituicao  nudeputadoid  idedocumento  \\\n",
       "478                      NaN            NaN          3692       7864666   \n",
       "479                      NaN            NaN          3692       7896334   \n",
       "480                      NaN            NaN          3692       7878276   \n",
       "481                      NaN            NaN          3692       7914836   \n",
       "\n",
       "                                          urldocumento  \n",
       "478  https://www.camara.leg.br/cota-parlamentar/doc...  \n",
       "479  https://www.camara.leg.br/cota-parlamentar/doc...  \n",
       "480  https://www.camara.leg.br/cota-parlamentar/doc...  \n",
       "481  https://www.camara.leg.br/cota-parlamentar/doc...  \n",
       "\n",
       "[4 rows x 32 columns]"
      ]
     },
     "metadata": {},
     "output_type": "display_data"
    }
   ],
   "source": [
    "#!pip install pyjanitor\n",
    "import janitor\n",
    "df_bronze=dados.clean_names()\n",
    "display(df_bronze.head(4))"
   ]
  },
  {
   "cell_type": "code",
   "execution_count": 7,
   "metadata": {
    "colab": {
     "base_uri": "https://localhost:8080/"
    },
    "executionInfo": {
     "elapsed": 12,
     "status": "ok",
     "timestamp": 1748288211085,
     "user": {
      "displayName": "Kelly Lima",
      "userId": "07502747413324583147"
     },
     "user_tz": 180
    },
    "id": "eB9UZCPFC1Q3",
    "outputId": "7d8cc7a8-5a92-4b5a-e0c6-88b29aebb3e5"
   },
   "outputs": [
    {
     "name": "stdout",
     "output_type": "stream",
     "text": [
      "['txnomeparlamentar', 'sguf', 'sgpartido', 'txtdescricao', 'txtdescricaoespecificacao', 'txtfornecedor', 'txtcnpjcpf', 'txtnumero', 'datemissao', 'txtpassageiro', 'txttrecho', 'datpagamentorestituicao', 'urldocumento']\n",
      "['cpf', 'idecadastro', 'nucarteiraparlamentar', 'nulegislatura', 'codlegislatura', 'numsubcota', 'numespecificacaosubcota', 'indtipodocumento', 'vlrdocumento', 'vlrglosa', 'vlrliquido', 'nummes', 'numano', 'numparcela', 'numlote', 'numressarcimento', 'vlrrestituicao', 'nudeputadoid', 'idedocumento']\n"
     ]
    }
   ],
   "source": [
    "# Selecionar só as colunas de texto\n",
    "colunas_chr = df_bronze.select_dtypes(include=['object', 'string']).columns.tolist()\n",
    "colunas_numerica = df_bronze.select_dtypes(include=['int64', 'float64']).columns.tolist()\n",
    "print(colunas_chr); print(colunas_numerica)"
   ]
  },
  {
   "cell_type": "code",
   "execution_count": 8,
   "metadata": {
    "colab": {
     "base_uri": "https://localhost:8080/",
     "height": 241
    },
    "executionInfo": {
     "elapsed": 31,
     "status": "ok",
     "timestamp": 1748288212229,
     "user": {
      "displayName": "Kelly Lima",
      "userId": "07502747413324583147"
     },
     "user_tz": 180
    },
    "id": "rT-roNdBDCI_",
    "outputId": "35d5c4cf-e1a3-4a65-b6d2-22708a672921"
   },
   "outputs": [
    {
     "data": {
      "text/plain": [
       "sgpartido\n",
       "PT              451\n",
       "PP              204\n",
       "PSD             201\n",
       "REPUBLICANOS     80\n",
       "Name: count, dtype: int64"
      ]
     },
     "metadata": {},
     "output_type": "display_data"
    }
   ],
   "source": [
    "# Frequência simples (equivalente a table(x) no R)\n",
    "tabela_sgpartido = df_bronze['sgpartido'].value_counts()\n",
    "display(tabela_sgpartido)"
   ]
  },
  {
   "cell_type": "code",
   "execution_count": 9,
   "metadata": {
    "colab": {
     "base_uri": "https://localhost:8080/",
     "height": 492
    },
    "executionInfo": {
     "elapsed": 28,
     "status": "ok",
     "timestamp": 1748288283695,
     "user": {
      "displayName": "Kelly Lima",
      "userId": "07502747413324583147"
     },
     "user_tz": 180
    },
    "id": "u8vcmC6AGYxm",
    "outputId": "6d5ece8e-d57e-49ce-cac7-ef1c66c2f038"
   },
   "outputs": [
    {
     "data": {
      "text/plain": [
       "txtdescricao\n",
       "PASSAGEM AÉREA - SIGEPA                                      320\n",
       "COMBUSTÍVEIS E LUBRIFICANTES.                                237\n",
       "DIVULGAÇÃO DA ATIVIDADE PARLAMENTAR.                         113\n",
       "MANUTENÇÃO DE ESCRITÓRIO DE APOIO À ATIVIDADE PARLAMENTAR     96\n",
       "LOCAÇÃO OU FRETAMENTO DE VEÍCULOS AUTOMOTORES                 54\n",
       "TELEFONIA                                                     51\n",
       "FORNECIMENTO DE ALIMENTAÇÃO DO PARLAMENTAR                    32\n",
       "SERVIÇO DE SEGURANÇA PRESTADO POR EMPRESA ESPECIALIZADA.      15\n",
       "SERVIÇO DE TÁXI, PEDÁGIO E ESTACIONAMENTO                      8\n",
       "HOSPEDAGEM ,EXCETO DO PARLAMENTAR NO DISTRITO FEDERAL.         7\n",
       "LOCAÇÃO OU FRETAMENTO DE AERONAVES                             2\n",
       "PASSAGEM AÉREA - REEMBOLSO                                     1\n",
       "Name: count, dtype: int64"
      ]
     },
     "metadata": {},
     "output_type": "display_data"
    }
   ],
   "source": [
    "tabela_descricao = df_bronze['txtdescricao'].value_counts()\n",
    "display(tabela_descricao)"
   ]
  },
  {
   "cell_type": "code",
   "execution_count": 10,
   "metadata": {
    "colab": {
     "base_uri": "https://localhost:8080/",
     "height": 490
    },
    "executionInfo": {
     "elapsed": 15,
     "status": "ok",
     "timestamp": 1748288260096,
     "user": {
      "displayName": "Kelly Lima",
      "userId": "07502747413324583147"
     },
     "user_tz": 180
    },
    "id": "foPbx_lODM_i",
    "outputId": "cb4a3997-33e1-4f3d-8b27-81fba5d198a2"
   },
   "outputs": [
    {
     "data": {
      "text/plain": [
       "txtfornecedor\n",
       "TAM                                                       314\n",
       "CACIQUE PETROLEO LTDA                                      32\n",
       "POSTO SAO BENEDITO PETROLEO LTDA                           22\n",
       "TRANSSERVICE PETROLEO LTDA                                 15\n",
       "AUTO POSTO 302 SUL LTDA                                    14\n",
       "                                                         ... \n",
       "SMARTPRINT LTDA                                             1\n",
       "MH BRASILIA ADMINISTRADORA DE EMPREENDIMENTOS LTDA          1\n",
       "EDVALDO FRANCISCO DE OLIVEIRA 49191160120                   1\n",
       "REDE JHJ DE RADIODIFUSÃO LTDA                               1\n",
       "TABITA FERREIRA MARINHO PRODUÇÕES E COMUNICAÇÃO EIRELI      1\n",
       "Name: count, Length: 185, dtype: int64"
      ]
     },
     "metadata": {},
     "output_type": "display_data"
    }
   ],
   "source": [
    "tabela_txtfornecedor = df_bronze['txtfornecedor'].value_counts()\n",
    "display(tabela_txtfornecedor)"
   ]
  },
  {
   "cell_type": "code",
   "execution_count": 11,
   "metadata": {
    "colab": {
     "base_uri": "https://localhost:8080/"
    },
    "executionInfo": {
     "elapsed": 10,
     "status": "ok",
     "timestamp": 1748288299145,
     "user": {
      "displayName": "Kelly Lima",
      "userId": "07502747413324583147"
     },
     "user_tz": 180
    },
    "id": "khkpRrFnDhtX",
    "outputId": "4a34413f-fe41-4b60-dd2c-7319c8394a1c"
   },
   "outputs": [
    {
     "name": "stdout",
     "output_type": "stream",
     "text": [
      "Média:\n",
      "1853.603076923077\n",
      "\n",
      "Mediana:\n",
      "667.92\n",
      "\n",
      "Variância:\n",
      "10820623.380604856\n",
      "\n",
      "Desvio padrão:\n",
      "3289.4715959565383\n",
      "\n",
      "Coeficiente de Variação:\n",
      "1.7746364563749852\n"
     ]
    }
   ],
   "source": [
    "# Calcular as medidas descritivas separadamente\n",
    "media = df_bronze['vlrliquido'].mean()\n",
    "mediana = df_bronze['vlrliquido'].median()\n",
    "variancia = df_bronze['vlrliquido'].var()\n",
    "desvio_padrao = df_bronze['vlrliquido'].std()\n",
    "coeficiente_variacao = desvio_padrao / media\n",
    "\n",
    "\n",
    "# Exibir resultados\n",
    "print(\"Média:\")\n",
    "print(media)\n",
    "print(\"\\nMediana:\")\n",
    "print(mediana)\n",
    "print(\"\\nVariância:\")\n",
    "print(variancia)\n",
    "print(\"\\nDesvio padrão:\")\n",
    "print(desvio_padrao)\n",
    "print(\"\\nCoeficiente de Variação:\")\n",
    "\n",
    "\n",
    "\n",
    "print(coeficiente_variacao)\n"
   ]
  },
  {
   "cell_type": "code",
   "execution_count": 12,
   "metadata": {
    "colab": {
     "base_uri": "https://localhost:8080/"
    },
    "executionInfo": {
     "elapsed": 11,
     "status": "ok",
     "timestamp": 1748288303663,
     "user": {
      "displayName": "Kelly Lima",
      "userId": "07502747413324583147"
     },
     "user_tz": 180
    },
    "id": "ADvzRSgiE6R4",
    "outputId": "fc236a69-bf9f-4493-983c-5daa2467cf5b"
   },
   "outputs": [
    {
     "name": "stdout",
     "output_type": "stream",
     "text": [
      "667.92\n"
     ]
    }
   ],
   "source": [
    "q2 = df_bronze['vlrliquido'].quantile(0.50);\n",
    "print(q2)"
   ]
  },
  {
   "cell_type": "code",
   "execution_count": 13,
   "metadata": {
    "colab": {
     "base_uri": "https://localhost:8080/",
     "height": 320
    },
    "executionInfo": {
     "elapsed": 62,
     "status": "ok",
     "timestamp": 1748288305237,
     "user": {
      "displayName": "Kelly Lima",
      "userId": "07502747413324583147"
     },
     "user_tz": 180
    },
    "id": "7C9Ntda9EgTJ",
    "outputId": "9c00b8f7-e0ad-409e-c4bb-4d8784bbf2c3"
   },
   "outputs": [
    {
     "data": {
      "text/html": [
       "<div>\n",
       "<style scoped>\n",
       "    .dataframe tbody tr th:only-of-type {\n",
       "        vertical-align: middle;\n",
       "    }\n",
       "\n",
       "    .dataframe tbody tr th {\n",
       "        vertical-align: top;\n",
       "    }\n",
       "\n",
       "    .dataframe thead th {\n",
       "        text-align: right;\n",
       "    }\n",
       "</style>\n",
       "<table border=\"1\" class=\"dataframe\">\n",
       "  <thead>\n",
       "    <tr style=\"text-align: right;\">\n",
       "      <th></th>\n",
       "      <th>cpf</th>\n",
       "      <th>idecadastro</th>\n",
       "      <th>nucarteiraparlamentar</th>\n",
       "      <th>nulegislatura</th>\n",
       "      <th>codlegislatura</th>\n",
       "      <th>numsubcota</th>\n",
       "      <th>numespecificacaosubcota</th>\n",
       "      <th>indtipodocumento</th>\n",
       "      <th>vlrdocumento</th>\n",
       "      <th>vlrglosa</th>\n",
       "      <th>vlrliquido</th>\n",
       "      <th>nummes</th>\n",
       "      <th>numano</th>\n",
       "      <th>numparcela</th>\n",
       "      <th>numlote</th>\n",
       "      <th>numressarcimento</th>\n",
       "      <th>vlrrestituicao</th>\n",
       "      <th>nudeputadoid</th>\n",
       "      <th>idedocumento</th>\n",
       "    </tr>\n",
       "  </thead>\n",
       "  <tbody>\n",
       "    <tr>\n",
       "      <th>count</th>\n",
       "      <td>936.0000</td>\n",
       "      <td>936.0000</td>\n",
       "      <td>936.0000</td>\n",
       "      <td>936.0000</td>\n",
       "      <td>936.0000</td>\n",
       "      <td>936.0000</td>\n",
       "      <td>936.0000</td>\n",
       "      <td>936.0000</td>\n",
       "      <td>936.0000</td>\n",
       "      <td>936.0000</td>\n",
       "      <td>936.0000</td>\n",
       "      <td>936.0000</td>\n",
       "      <td>936.0000</td>\n",
       "      <td>936.0000</td>\n",
       "      <td>936.0000</td>\n",
       "      <td>328.0000</td>\n",
       "      <td>0.0000</td>\n",
       "      <td>936.0000</td>\n",
       "      <td>936.0000</td>\n",
       "    </tr>\n",
       "    <tr>\n",
       "      <th>mean</th>\n",
       "      <td>42178715024.9209</td>\n",
       "      <td>174072.1239</td>\n",
       "      <td>204.4380</td>\n",
       "      <td>2023.0000</td>\n",
       "      <td>57.0000</td>\n",
       "      <td>352.1143</td>\n",
       "      <td>0.2650</td>\n",
       "      <td>1.2949</td>\n",
       "      <td>1862.6765</td>\n",
       "      <td>9.0734</td>\n",
       "      <td>1853.6031</td>\n",
       "      <td>2.6442</td>\n",
       "      <td>2025.0000</td>\n",
       "      <td>0.0000</td>\n",
       "      <td>1377384.7350</td>\n",
       "      <td>0.0000</td>\n",
       "      <td>NaN</td>\n",
       "      <td>3317.3718</td>\n",
       "      <td>5230538.7297</td>\n",
       "    </tr>\n",
       "    <tr>\n",
       "      <th>std</th>\n",
       "      <td>29851062366.2216</td>\n",
       "      <td>56351.0464</td>\n",
       "      <td>169.2714</td>\n",
       "      <td>0.0000</td>\n",
       "      <td>0.0000</td>\n",
       "      <td>466.6581</td>\n",
       "      <td>0.4832</td>\n",
       "      <td>1.7884</td>\n",
       "      <td>3290.8398</td>\n",
       "      <td>125.5349</td>\n",
       "      <td>3289.4716</td>\n",
       "      <td>1.2098</td>\n",
       "      <td>0.0000</td>\n",
       "      <td>0.0000</td>\n",
       "      <td>1012244.6938</td>\n",
       "      <td>0.0000</td>\n",
       "      <td>NaN</td>\n",
       "      <td>597.3047</td>\n",
       "      <td>3618818.3935</td>\n",
       "    </tr>\n",
       "    <tr>\n",
       "      <th>min</th>\n",
       "      <td>1102125334.0000</td>\n",
       "      <td>66385.0000</td>\n",
       "      <td>109.0000</td>\n",
       "      <td>2023.0000</td>\n",
       "      <td>57.0000</td>\n",
       "      <td>1.0000</td>\n",
       "      <td>0.0000</td>\n",
       "      <td>0.0000</td>\n",
       "      <td>-2928.4000</td>\n",
       "      <td>0.0000</td>\n",
       "      <td>-2928.4000</td>\n",
       "      <td>1.0000</td>\n",
       "      <td>2025.0000</td>\n",
       "      <td>0.0000</td>\n",
       "      <td>0.0000</td>\n",
       "      <td>0.0000</td>\n",
       "      <td>NaN</td>\n",
       "      <td>1097.0000</td>\n",
       "      <td>0.0000</td>\n",
       "    </tr>\n",
       "    <tr>\n",
       "      <th>25%</th>\n",
       "      <td>13891820372.0000</td>\n",
       "      <td>123086.0000</td>\n",
       "      <td>111.0000</td>\n",
       "      <td>2023.0000</td>\n",
       "      <td>57.0000</td>\n",
       "      <td>3.0000</td>\n",
       "      <td>0.0000</td>\n",
       "      <td>0.0000</td>\n",
       "      <td>200.0000</td>\n",
       "      <td>0.0000</td>\n",
       "      <td>185.1350</td>\n",
       "      <td>2.0000</td>\n",
       "      <td>2025.0000</td>\n",
       "      <td>0.0000</td>\n",
       "      <td>0.0000</td>\n",
       "      <td>0.0000</td>\n",
       "      <td>NaN</td>\n",
       "      <td>3121.0000</td>\n",
       "      <td>319911.7500</td>\n",
       "    </tr>\n",
       "    <tr>\n",
       "      <th>50%</th>\n",
       "      <td>42866367391.0000</td>\n",
       "      <td>188097.0000</td>\n",
       "      <td>114.0000</td>\n",
       "      <td>2023.0000</td>\n",
       "      <td>57.0000</td>\n",
       "      <td>10.0000</td>\n",
       "      <td>0.0000</td>\n",
       "      <td>0.0000</td>\n",
       "      <td>669.7700</td>\n",
       "      <td>0.0000</td>\n",
       "      <td>667.9200</td>\n",
       "      <td>3.0000</td>\n",
       "      <td>2025.0000</td>\n",
       "      <td>0.0000</td>\n",
       "      <td>2110828.0000</td>\n",
       "      <td>0.0000</td>\n",
       "      <td>NaN</td>\n",
       "      <td>3560.0000</td>\n",
       "      <td>7869479.0000</td>\n",
       "    </tr>\n",
       "    <tr>\n",
       "      <th>75%</th>\n",
       "      <td>74568701368.0000</td>\n",
       "      <td>220697.0000</td>\n",
       "      <td>118.0000</td>\n",
       "      <td>2023.0000</td>\n",
       "      <td>57.0000</td>\n",
       "      <td>998.0000</td>\n",
       "      <td>1.0000</td>\n",
       "      <td>4.0000</td>\n",
       "      <td>1715.2900</td>\n",
       "      <td>0.0000</td>\n",
       "      <td>1676.9850</td>\n",
       "      <td>4.0000</td>\n",
       "      <td>2025.0000</td>\n",
       "      <td>0.0000</td>\n",
       "      <td>2124947.0000</td>\n",
       "      <td>0.0000</td>\n",
       "      <td>NaN</td>\n",
       "      <td>3670.0000</td>\n",
       "      <td>7894886.2500</td>\n",
       "    </tr>\n",
       "    <tr>\n",
       "      <th>max</th>\n",
       "      <td>77309766768.0000</td>\n",
       "      <td>220700.0000</td>\n",
       "      <td>518.0000</td>\n",
       "      <td>2023.0000</td>\n",
       "      <td>57.0000</td>\n",
       "      <td>998.0000</td>\n",
       "      <td>4.0000</td>\n",
       "      <td>4.0000</td>\n",
       "      <td>36300.0000</td>\n",
       "      <td>3600.0000</td>\n",
       "      <td>36300.0000</td>\n",
       "      <td>5.0000</td>\n",
       "      <td>2025.0000</td>\n",
       "      <td>0.0000</td>\n",
       "      <td>2137115.0000</td>\n",
       "      <td>0.0000</td>\n",
       "      <td>NaN</td>\n",
       "      <td>3692.0000</td>\n",
       "      <td>7917843.0000</td>\n",
       "    </tr>\n",
       "  </tbody>\n",
       "</table>\n",
       "</div>"
      ],
      "text/plain": [
       "                   cpf  idecadastro  nucarteiraparlamentar  nulegislatura  \\\n",
       "count         936.0000     936.0000               936.0000       936.0000   \n",
       "mean  42178715024.9209  174072.1239               204.4380      2023.0000   \n",
       "std   29851062366.2216   56351.0464               169.2714         0.0000   \n",
       "min    1102125334.0000   66385.0000               109.0000      2023.0000   \n",
       "25%   13891820372.0000  123086.0000               111.0000      2023.0000   \n",
       "50%   42866367391.0000  188097.0000               114.0000      2023.0000   \n",
       "75%   74568701368.0000  220697.0000               118.0000      2023.0000   \n",
       "max   77309766768.0000  220700.0000               518.0000      2023.0000   \n",
       "\n",
       "       codlegislatura  numsubcota  numespecificacaosubcota  indtipodocumento  \\\n",
       "count        936.0000    936.0000                 936.0000          936.0000   \n",
       "mean          57.0000    352.1143                   0.2650            1.2949   \n",
       "std            0.0000    466.6581                   0.4832            1.7884   \n",
       "min           57.0000      1.0000                   0.0000            0.0000   \n",
       "25%           57.0000      3.0000                   0.0000            0.0000   \n",
       "50%           57.0000     10.0000                   0.0000            0.0000   \n",
       "75%           57.0000    998.0000                   1.0000            4.0000   \n",
       "max           57.0000    998.0000                   4.0000            4.0000   \n",
       "\n",
       "       vlrdocumento  vlrglosa  vlrliquido   nummes    numano  numparcela  \\\n",
       "count      936.0000  936.0000    936.0000 936.0000  936.0000    936.0000   \n",
       "mean      1862.6765    9.0734   1853.6031   2.6442 2025.0000      0.0000   \n",
       "std       3290.8398  125.5349   3289.4716   1.2098    0.0000      0.0000   \n",
       "min      -2928.4000    0.0000  -2928.4000   1.0000 2025.0000      0.0000   \n",
       "25%        200.0000    0.0000    185.1350   2.0000 2025.0000      0.0000   \n",
       "50%        669.7700    0.0000    667.9200   3.0000 2025.0000      0.0000   \n",
       "75%       1715.2900    0.0000   1676.9850   4.0000 2025.0000      0.0000   \n",
       "max      36300.0000 3600.0000  36300.0000   5.0000 2025.0000      0.0000   \n",
       "\n",
       "           numlote  numressarcimento  vlrrestituicao  nudeputadoid  \\\n",
       "count     936.0000          328.0000          0.0000      936.0000   \n",
       "mean  1377384.7350            0.0000             NaN     3317.3718   \n",
       "std   1012244.6938            0.0000             NaN      597.3047   \n",
       "min         0.0000            0.0000             NaN     1097.0000   \n",
       "25%         0.0000            0.0000             NaN     3121.0000   \n",
       "50%   2110828.0000            0.0000             NaN     3560.0000   \n",
       "75%   2124947.0000            0.0000             NaN     3670.0000   \n",
       "max   2137115.0000            0.0000             NaN     3692.0000   \n",
       "\n",
       "       idedocumento  \n",
       "count      936.0000  \n",
       "mean   5230538.7297  \n",
       "std    3618818.3935  \n",
       "min          0.0000  \n",
       "25%     319911.7500  \n",
       "50%    7869479.0000  \n",
       "75%    7894886.2500  \n",
       "max    7917843.0000  "
      ]
     },
     "execution_count": 38,
     "metadata": {},
     "output_type": "execute_result"
    }
   ],
   "source": [
    "df_bronze.describe()"
   ]
  },
  {
   "cell_type": "code",
   "execution_count": 14,
   "metadata": {
    "executionInfo": {
     "elapsed": 9,
     "status": "ok",
     "timestamp": 1748288307703,
     "user": {
      "displayName": "Kelly Lima",
      "userId": "07502747413324583147"
     },
     "user_tz": 180
    },
    "id": "thygq7_fErxY"
   },
   "outputs": [],
   "source": [
    "from scipy.stats import skew, kurtosis"
   ]
  },
  {
   "cell_type": "code",
   "execution_count": 15,
   "metadata": {
    "colab": {
     "base_uri": "https://localhost:8080/"
    },
    "executionInfo": {
     "elapsed": 12,
     "status": "ok",
     "timestamp": 1748288308776,
     "user": {
      "displayName": "Kelly Lima",
      "userId": "07502747413324583147"
     },
     "user_tz": 180
    },
    "id": "BK8LiDIEEt8t",
    "outputId": "a5bf3880-4604-46ae-9d29-a986f29e7978"
   },
   "outputs": [
    {
     "name": "stdout",
     "output_type": "stream",
     "text": [
      "\n",
      "Assimetria:\n",
      "3.406585380619545\n",
      "\n",
      "Curtose:\n",
      "18.595100386926408\n"
     ]
    }
   ],
   "source": [
    "assimetria = df_bronze['vlrliquido'].skew()\n",
    "curtose_ = df_bronze['vlrliquido'].kurtosis()\n",
    "print(\"\\nAssimetria:\")\n",
    "print(assimetria)\n",
    "print(\"\\nCurtose:\")\n",
    "print(curtose_)"
   ]
  },
  {
   "cell_type": "markdown",
   "metadata": {
    "id": "QGbeg7GWFfBE"
   },
   "source": [
    "## Análise Bivariada"
   ]
  },
  {
   "cell_type": "code",
   "execution_count": 16,
   "metadata": {
    "colab": {
     "base_uri": "https://localhost:8080/"
    },
    "executionInfo": {
     "elapsed": 15,
     "status": "ok",
     "timestamp": 1748288311473,
     "user": {
      "displayName": "Kelly Lima",
      "userId": "07502747413324583147"
     },
     "user_tz": 180
    },
    "id": "50Q2WnuZFqab",
    "outputId": "a1362729-13e3-41b6-a7a4-57180c17a912"
   },
   "outputs": [
    {
     "data": {
      "text/plain": [
       "Index(['txnomeparlamentar', 'cpf', 'idecadastro', 'nucarteiraparlamentar',\n",
       "       'nulegislatura', 'sguf', 'sgpartido', 'codlegislatura', 'numsubcota',\n",
       "       'txtdescricao', 'numespecificacaosubcota', 'txtdescricaoespecificacao',\n",
       "       'txtfornecedor', 'txtcnpjcpf', 'txtnumero', 'indtipodocumento',\n",
       "       'datemissao', 'vlrdocumento', 'vlrglosa', 'vlrliquido', 'nummes',\n",
       "       'numano', 'numparcela', 'txtpassageiro', 'txttrecho', 'numlote',\n",
       "       'numressarcimento', 'datpagamentorestituicao', 'vlrrestituicao',\n",
       "       'nudeputadoid', 'idedocumento', 'urldocumento'],\n",
       "      dtype='object')"
      ]
     },
     "execution_count": 41,
     "metadata": {},
     "output_type": "execute_result"
    }
   ],
   "source": [
    "df_bronze.columns"
   ]
  },
  {
   "cell_type": "code",
   "execution_count": 17,
   "metadata": {
    "colab": {
     "base_uri": "https://localhost:8080/",
     "height": 276
    },
    "executionInfo": {
     "elapsed": 64,
     "status": "ok",
     "timestamp": 1748288327557,
     "user": {
      "displayName": "Kelly Lima",
      "userId": "07502747413324583147"
     },
     "user_tz": 180
    },
    "id": "KkPuXMXiEz61",
    "outputId": "1260eb41-a66a-4b0d-8369-894d56056c96"
   },
   "outputs": [
    {
     "data": {
      "text/html": [
       "<div>\n",
       "<style scoped>\n",
       "    .dataframe tbody tr th:only-of-type {\n",
       "        vertical-align: middle;\n",
       "    }\n",
       "\n",
       "    .dataframe tbody tr th {\n",
       "        vertical-align: top;\n",
       "    }\n",
       "\n",
       "    .dataframe thead th {\n",
       "        text-align: right;\n",
       "    }\n",
       "</style>\n",
       "<table border=\"1\" class=\"dataframe\">\n",
       "  <thead>\n",
       "    <tr style=\"text-align: right;\">\n",
       "      <th>txtdescricao</th>\n",
       "      <th>COMBUSTÍVEIS E LUBRIFICANTES.</th>\n",
       "      <th>DIVULGAÇÃO DA ATIVIDADE PARLAMENTAR.</th>\n",
       "      <th>FORNECIMENTO DE ALIMENTAÇÃO DO PARLAMENTAR</th>\n",
       "      <th>HOSPEDAGEM ,EXCETO DO PARLAMENTAR NO DISTRITO FEDERAL.</th>\n",
       "      <th>LOCAÇÃO OU FRETAMENTO DE AERONAVES</th>\n",
       "      <th>LOCAÇÃO OU FRETAMENTO DE VEÍCULOS AUTOMOTORES</th>\n",
       "      <th>MANUTENÇÃO DE ESCRITÓRIO DE APOIO À ATIVIDADE PARLAMENTAR</th>\n",
       "      <th>PASSAGEM AÉREA - REEMBOLSO</th>\n",
       "      <th>PASSAGEM AÉREA - SIGEPA</th>\n",
       "      <th>SERVIÇO DE SEGURANÇA PRESTADO POR EMPRESA ESPECIALIZADA.</th>\n",
       "      <th>SERVIÇO DE TÁXI, PEDÁGIO E ESTACIONAMENTO</th>\n",
       "      <th>TELEFONIA</th>\n",
       "    </tr>\n",
       "    <tr>\n",
       "      <th>sgpartido</th>\n",
       "      <th></th>\n",
       "      <th></th>\n",
       "      <th></th>\n",
       "      <th></th>\n",
       "      <th></th>\n",
       "      <th></th>\n",
       "      <th></th>\n",
       "      <th></th>\n",
       "      <th></th>\n",
       "      <th></th>\n",
       "      <th></th>\n",
       "      <th></th>\n",
       "    </tr>\n",
       "  </thead>\n",
       "  <tbody>\n",
       "    <tr>\n",
       "      <th>PP</th>\n",
       "      <td>19</td>\n",
       "      <td>15</td>\n",
       "      <td>0</td>\n",
       "      <td>0</td>\n",
       "      <td>0</td>\n",
       "      <td>8</td>\n",
       "      <td>22</td>\n",
       "      <td>0</td>\n",
       "      <td>121</td>\n",
       "      <td>7</td>\n",
       "      <td>0</td>\n",
       "      <td>12</td>\n",
       "    </tr>\n",
       "    <tr>\n",
       "      <th>PSD</th>\n",
       "      <td>53</td>\n",
       "      <td>33</td>\n",
       "      <td>0</td>\n",
       "      <td>4</td>\n",
       "      <td>0</td>\n",
       "      <td>18</td>\n",
       "      <td>13</td>\n",
       "      <td>1</td>\n",
       "      <td>71</td>\n",
       "      <td>0</td>\n",
       "      <td>0</td>\n",
       "      <td>8</td>\n",
       "    </tr>\n",
       "    <tr>\n",
       "      <th>PT</th>\n",
       "      <td>150</td>\n",
       "      <td>51</td>\n",
       "      <td>32</td>\n",
       "      <td>2</td>\n",
       "      <td>2</td>\n",
       "      <td>28</td>\n",
       "      <td>55</td>\n",
       "      <td>0</td>\n",
       "      <td>92</td>\n",
       "      <td>8</td>\n",
       "      <td>0</td>\n",
       "      <td>31</td>\n",
       "    </tr>\n",
       "    <tr>\n",
       "      <th>REPUBLICANOS</th>\n",
       "      <td>15</td>\n",
       "      <td>14</td>\n",
       "      <td>0</td>\n",
       "      <td>1</td>\n",
       "      <td>0</td>\n",
       "      <td>0</td>\n",
       "      <td>6</td>\n",
       "      <td>0</td>\n",
       "      <td>36</td>\n",
       "      <td>0</td>\n",
       "      <td>8</td>\n",
       "      <td>0</td>\n",
       "    </tr>\n",
       "  </tbody>\n",
       "</table>\n",
       "</div>"
      ],
      "text/plain": [
       "txtdescricao  COMBUSTÍVEIS E LUBRIFICANTES.  \\\n",
       "sgpartido                                     \n",
       "PP                                       19   \n",
       "PSD                                      53   \n",
       "PT                                      150   \n",
       "REPUBLICANOS                             15   \n",
       "\n",
       "txtdescricao  DIVULGAÇÃO DA ATIVIDADE PARLAMENTAR.  \\\n",
       "sgpartido                                            \n",
       "PP                                              15   \n",
       "PSD                                             33   \n",
       "PT                                              51   \n",
       "REPUBLICANOS                                    14   \n",
       "\n",
       "txtdescricao  FORNECIMENTO DE ALIMENTAÇÃO DO PARLAMENTAR  \\\n",
       "sgpartido                                                  \n",
       "PP                                                     0   \n",
       "PSD                                                    0   \n",
       "PT                                                    32   \n",
       "REPUBLICANOS                                           0   \n",
       "\n",
       "txtdescricao  HOSPEDAGEM ,EXCETO DO PARLAMENTAR NO DISTRITO FEDERAL.  \\\n",
       "sgpartido                                                              \n",
       "PP                                                            0        \n",
       "PSD                                                           4        \n",
       "PT                                                            2        \n",
       "REPUBLICANOS                                                  1        \n",
       "\n",
       "txtdescricao  LOCAÇÃO OU FRETAMENTO DE AERONAVES  \\\n",
       "sgpartido                                          \n",
       "PP                                             0   \n",
       "PSD                                            0   \n",
       "PT                                             2   \n",
       "REPUBLICANOS                                   0   \n",
       "\n",
       "txtdescricao  LOCAÇÃO OU FRETAMENTO DE VEÍCULOS AUTOMOTORES  \\\n",
       "sgpartido                                                     \n",
       "PP                                                        8   \n",
       "PSD                                                      18   \n",
       "PT                                                       28   \n",
       "REPUBLICANOS                                              0   \n",
       "\n",
       "txtdescricao  MANUTENÇÃO DE ESCRITÓRIO DE APOIO À ATIVIDADE PARLAMENTAR  \\\n",
       "sgpartido                                                                 \n",
       "PP                                                           22           \n",
       "PSD                                                          13           \n",
       "PT                                                           55           \n",
       "REPUBLICANOS                                                  6           \n",
       "\n",
       "txtdescricao  PASSAGEM AÉREA - REEMBOLSO  PASSAGEM AÉREA - SIGEPA  \\\n",
       "sgpartido                                                           \n",
       "PP                                     0                      121   \n",
       "PSD                                    1                       71   \n",
       "PT                                     0                       92   \n",
       "REPUBLICANOS                           0                       36   \n",
       "\n",
       "txtdescricao  SERVIÇO DE SEGURANÇA PRESTADO POR EMPRESA ESPECIALIZADA.  \\\n",
       "sgpartido                                                                \n",
       "PP                                                            7          \n",
       "PSD                                                           0          \n",
       "PT                                                            8          \n",
       "REPUBLICANOS                                                  0          \n",
       "\n",
       "txtdescricao  SERVIÇO DE TÁXI, PEDÁGIO E ESTACIONAMENTO  TELEFONIA  \n",
       "sgpartido                                                           \n",
       "PP                                                    0         12  \n",
       "PSD                                                   0          8  \n",
       "PT                                                    0         31  \n",
       "REPUBLICANOS                                          8          0  "
      ]
     },
     "metadata": {},
     "output_type": "display_data"
    }
   ],
   "source": [
    "contingency_table = pd.crosstab(df_bronze['sgpartido'], df_bronze['txtdescricao'])\n",
    "display(contingency_table)"
   ]
  },
  {
   "cell_type": "code",
   "execution_count": 18,
   "metadata": {
    "colab": {
     "base_uri": "https://localhost:8080/",
     "height": 241
    },
    "executionInfo": {
     "elapsed": 19,
     "status": "ok",
     "timestamp": 1748288931249,
     "user": {
      "displayName": "Kelly Lima",
      "userId": "07502747413324583147"
     },
     "user_tz": 180
    },
    "id": "PP3WhxauHAdd",
    "outputId": "cf2290c0-5846-4444-dfaa-820994f08efd"
   },
   "outputs": [
    {
     "data": {
      "text/plain": [
       "sgpartido\n",
       "PT             713317.2500\n",
       "PSD            532028.5100\n",
       "PP             409071.3200\n",
       "REPUBLICANOS    80555.4000\n",
       "Name: vlrliquido, dtype: float64"
      ]
     },
     "metadata": {},
     "output_type": "display_data"
    }
   ],
   "source": [
    "# prompt: txtdescricao pelo valor liquido\n",
    "tabela_cruzada_descricao_vlrliquido = df_bronze.groupby('sgpartido')['vlrliquido'].sum().sort_values(ascending=False)\n",
    "display(tabela_cruzada_descricao_vlrliquido)\n"
   ]
  },
  {
   "cell_type": "code",
   "execution_count": 19,
   "metadata": {
    "colab": {
     "base_uri": "https://localhost:8080/",
     "height": 492
    },
    "executionInfo": {
     "elapsed": 16,
     "status": "ok",
     "timestamp": 1748288944572,
     "user": {
      "displayName": "Kelly Lima",
      "userId": "07502747413324583147"
     },
     "user_tz": 180
    },
    "id": "CCLuPZb7JAvt",
    "outputId": "60463fe1-3521-46b3-b7f3-10123b0913d0"
   },
   "outputs": [
    {
     "data": {
      "text/plain": [
       "txtdescricao\n",
       "DIVULGAÇÃO DA ATIVIDADE PARLAMENTAR.                        498967.0300\n",
       "LOCAÇÃO OU FRETAMENTO DE VEÍCULOS AUTOMOTORES               421378.0000\n",
       "PASSAGEM AÉREA - SIGEPA                                     270089.0300\n",
       "COMBUSTÍVEIS E LUBRIFICANTES.                               179362.2100\n",
       "MANUTENÇÃO DE ESCRITÓRIO DE APOIO À ATIVIDADE PARLAMENTAR   155701.0000\n",
       "SERVIÇO DE SEGURANÇA PRESTADO POR EMPRESA ESPECIALIZADA.    129899.8800\n",
       "LOCAÇÃO OU FRETAMENTO DE AERONAVES                           58300.0000\n",
       "TELEFONIA                                                    12436.9300\n",
       "HOSPEDAGEM ,EXCETO DO PARLAMENTAR NO DISTRITO FEDERAL.        3992.0000\n",
       "PASSAGEM AÉREA - REEMBOLSO                                    2966.8500\n",
       "FORNECIMENTO DE ALIMENTAÇÃO DO PARLAMENTAR                    1611.2700\n",
       "SERVIÇO DE TÁXI, PEDÁGIO E ESTACIONAMENTO                      268.2800\n",
       "Name: vlrliquido, dtype: float64"
      ]
     },
     "metadata": {},
     "output_type": "display_data"
    }
   ],
   "source": [
    "# prompt: txtdescricao pelo valor liquido\n",
    "tabela_cruzada_descricao_vlrliquido = df_bronze.groupby('txtdescricao')['vlrliquido'].sum().sort_values(ascending=False)\n",
    "display(tabela_cruzada_descricao_vlrliquido)"
   ]
  },
  {
   "cell_type": "code",
   "execution_count": 20,
   "metadata": {
    "colab": {
     "base_uri": "https://localhost:8080/"
    },
    "executionInfo": {
     "elapsed": 14,
     "status": "ok",
     "timestamp": 1748289455541,
     "user": {
      "displayName": "Kelly Lima",
      "userId": "07502747413324583147"
     },
     "user_tz": 180
    },
    "id": "ROV6obCQKu56",
    "outputId": "25cf7ab6-7648-433f-c8c3-2a0bff433154"
   },
   "outputs": [
    {
     "data": {
      "text/plain": [
       "np.float64(10820623.380604856)"
      ]
     },
     "execution_count": 45,
     "metadata": {},
     "output_type": "execute_result"
    }
   ],
   "source": [
    "df_bronze['vlrliquido'].var()"
   ]
  },
  {
   "cell_type": "code",
   "execution_count": 21,
   "metadata": {
    "colab": {
     "base_uri": "https://localhost:8080/"
    },
    "executionInfo": {
     "elapsed": 15,
     "status": "ok",
     "timestamp": 1748289515658,
     "user": {
      "displayName": "Kelly Lima",
      "userId": "07502747413324583147"
     },
     "user_tz": 180
    },
    "id": "2p5WEIMuLMcI",
    "outputId": "ce059017-4c29-4ea4-832f-a47a5090f498"
   },
   "outputs": [
    {
     "data": {
      "text/plain": [
       "np.float64(10829626.740104863)"
      ]
     },
     "execution_count": 46,
     "metadata": {},
     "output_type": "execute_result"
    }
   ],
   "source": [
    "df_bronze['vlrdocumento'].var()"
   ]
  },
  {
   "cell_type": "code",
   "execution_count": 22,
   "metadata": {
    "colab": {
     "base_uri": "https://localhost:8080/"
    },
    "executionInfo": {
     "elapsed": 19,
     "status": "ok",
     "timestamp": 1748289536817,
     "user": {
      "displayName": "Kelly Lima",
      "userId": "07502747413324583147"
     },
     "user_tz": 180
    },
    "id": "At0XPVPpLQy4",
    "outputId": "85adcc83-0442-48d5-9a66-c4847b5cbaad"
   },
   "outputs": [
    {
     "data": {
      "text/plain": [
       "np.float64(15759.018374890535)"
      ]
     },
     "execution_count": 47,
     "metadata": {},
     "output_type": "execute_result"
    }
   ],
   "source": [
    "df_bronze['vlrglosa'].var()"
   ]
  },
  {
   "cell_type": "code",
   "execution_count": 23,
   "metadata": {
    "colab": {
     "base_uri": "https://localhost:8080/",
     "height": 143
    },
    "executionInfo": {
     "elapsed": 14,
     "status": "ok",
     "timestamp": 1748289571773,
     "user": {
      "displayName": "Kelly Lima",
      "userId": "07502747413324583147"
     },
     "user_tz": 180
    },
    "id": "307__yd3KjCc",
    "outputId": "5b3620fb-ad91-4fb6-affb-10470f8e2ba3"
   },
   "outputs": [
    {
     "data": {
      "text/html": [
       "<div>\n",
       "<style scoped>\n",
       "    .dataframe tbody tr th:only-of-type {\n",
       "        vertical-align: middle;\n",
       "    }\n",
       "\n",
       "    .dataframe tbody tr th {\n",
       "        vertical-align: top;\n",
       "    }\n",
       "\n",
       "    .dataframe thead th {\n",
       "        text-align: right;\n",
       "    }\n",
       "</style>\n",
       "<table border=\"1\" class=\"dataframe\">\n",
       "  <thead>\n",
       "    <tr style=\"text-align: right;\">\n",
       "      <th></th>\n",
       "      <th>vlrliquido</th>\n",
       "      <th>vlrdocumento</th>\n",
       "      <th>vlrglosa</th>\n",
       "    </tr>\n",
       "  </thead>\n",
       "  <tbody>\n",
       "    <tr>\n",
       "      <th>vlrliquido</th>\n",
       "      <td>10820623.3806</td>\n",
       "      <td>10817245.5512</td>\n",
       "      <td>-3377.8294</td>\n",
       "    </tr>\n",
       "    <tr>\n",
       "      <th>vlrdocumento</th>\n",
       "      <td>10817245.5512</td>\n",
       "      <td>10829626.7401</td>\n",
       "      <td>12381.1889</td>\n",
       "    </tr>\n",
       "    <tr>\n",
       "      <th>vlrglosa</th>\n",
       "      <td>-3377.8294</td>\n",
       "      <td>12381.1889</td>\n",
       "      <td>15759.0184</td>\n",
       "    </tr>\n",
       "  </tbody>\n",
       "</table>\n",
       "</div>"
      ],
      "text/plain": [
       "                vlrliquido  vlrdocumento   vlrglosa\n",
       "vlrliquido   10820623.3806 10817245.5512 -3377.8294\n",
       "vlrdocumento 10817245.5512 10829626.7401 12381.1889\n",
       "vlrglosa        -3377.8294    12381.1889 15759.0184"
      ]
     },
     "metadata": {},
     "output_type": "display_data"
    }
   ],
   "source": [
    "pd.set_option('display.float_format', '{:.4f}'.format)\n",
    "matriz_cov = df_bronze[['vlrliquido','vlrdocumento','vlrglosa']].cov()\n",
    "display(matriz_cov)"
   ]
  },
  {
   "cell_type": "code",
   "execution_count": 24,
   "metadata": {
    "colab": {
     "base_uri": "https://localhost:8080/",
     "height": 143
    },
    "executionInfo": {
     "elapsed": 11,
     "status": "ok",
     "timestamp": 1748289573720,
     "user": {
      "displayName": "Kelly Lima",
      "userId": "07502747413324583147"
     },
     "user_tz": 180
    },
    "id": "eQ5RbN9wKD1E",
    "outputId": "357c1c1b-a60c-4844-f640-86338b6f792b"
   },
   "outputs": [
    {
     "data": {
      "text/html": [
       "<div>\n",
       "<style scoped>\n",
       "    .dataframe tbody tr th:only-of-type {\n",
       "        vertical-align: middle;\n",
       "    }\n",
       "\n",
       "    .dataframe tbody tr th {\n",
       "        vertical-align: top;\n",
       "    }\n",
       "\n",
       "    .dataframe thead th {\n",
       "        text-align: right;\n",
       "    }\n",
       "</style>\n",
       "<table border=\"1\" class=\"dataframe\">\n",
       "  <thead>\n",
       "    <tr style=\"text-align: right;\">\n",
       "      <th></th>\n",
       "      <th>vlrliquido</th>\n",
       "      <th>vlrdocumento</th>\n",
       "      <th>vlrglosa</th>\n",
       "    </tr>\n",
       "  </thead>\n",
       "  <tbody>\n",
       "    <tr>\n",
       "      <th>vlrliquido</th>\n",
       "      <td>1.0000</td>\n",
       "      <td>0.9993</td>\n",
       "      <td>-0.0082</td>\n",
       "    </tr>\n",
       "    <tr>\n",
       "      <th>vlrdocumento</th>\n",
       "      <td>0.9993</td>\n",
       "      <td>1.0000</td>\n",
       "      <td>0.0300</td>\n",
       "    </tr>\n",
       "    <tr>\n",
       "      <th>vlrglosa</th>\n",
       "      <td>-0.0082</td>\n",
       "      <td>0.0300</td>\n",
       "      <td>1.0000</td>\n",
       "    </tr>\n",
       "  </tbody>\n",
       "</table>\n",
       "</div>"
      ],
      "text/plain": [
       "              vlrliquido  vlrdocumento  vlrglosa\n",
       "vlrliquido        1.0000        0.9993   -0.0082\n",
       "vlrdocumento      0.9993        1.0000    0.0300\n",
       "vlrglosa         -0.0082        0.0300    1.0000"
      ]
     },
     "metadata": {},
     "output_type": "display_data"
    }
   ],
   "source": [
    "matriz_cor = df_bronze[['vlrliquido','vlrdocumento','vlrglosa']] .corr()\n",
    "display(matriz_cor)"
   ]
  },
  {
   "cell_type": "code",
   "execution_count": 25,
   "metadata": {
    "colab": {
     "base_uri": "https://localhost:8080/"
    },
    "executionInfo": {
     "elapsed": 10,
     "status": "ok",
     "timestamp": 1748289495370,
     "user": {
      "displayName": "Kelly Lima",
      "userId": "07502747413324583147"
     },
     "user_tz": 180
    },
    "id": "eE-VyKKGJSWG",
    "outputId": "10806452-a4ac-4119-b843-43ec1f5fb2a2"
   },
   "outputs": [
    {
     "name": "stdout",
     "output_type": "stream",
     "text": [
      "Correlação de Pearson entre vlrliquido e vlrdocumento: 0.999272195581829\n",
      "Correlação de Pearson entre vlrliquido e vlrglosa: -0.008179881167973923\n",
      "Correlação de Pearson entre vlrdocumento e vlrglosa: 0.029970295563040053\n"
     ]
    }
   ],
   "source": [
    "from scipy.stats import pearsonr, spearmanr\n",
    "# Calcula a correlação de Pearson entre as variáveis\n",
    "correlation_vlrliquido_vlrdocumento, _ = pearsonr(df_bronze['vlrliquido'], df_bronze['vlrdocumento'])\n",
    "correlation_vlrliquido_vlrglosa, _ = pearsonr(df_bronze['vlrliquido'], df_bronze['vlrglosa'])\n",
    "correlation_vlrdocumento_vlrglosa, _ = pearsonr(df_bronze['vlrdocumento'], df_bronze['vlrglosa'])\n",
    "\n",
    "print(f\"Correlação de Pearson entre vlrliquido e vlrdocumento: {correlation_vlrliquido_vlrdocumento}\")\n",
    "print(f\"Correlação de Pearson entre vlrliquido e vlrglosa: {correlation_vlrliquido_vlrglosa}\")\n",
    "print(f\"Correlação de Pearson entre vlrdocumento e vlrglosa: {correlation_vlrdocumento_vlrglosa}\")"
   ]
  }
 ],
 "metadata": {
  "colab": {
   "authorship_tag": "ABX9TyPzXD1JPP6qzPXiOfSSEJwX",
   "provenance": []
  },
  "kernelspec": {
   "display_name": ".venv",
   "language": "python",
   "name": "python3"
  },
  "language_info": {
   "codemirror_mode": {
    "name": "ipython",
    "version": 3
   },
   "file_extension": ".py",
   "mimetype": "text/x-python",
   "name": "python",
   "nbconvert_exporter": "python",
   "pygments_lexer": "ipython3",
   "version": "3.10.12"
  }
 },
 "nbformat": 4,
 "nbformat_minor": 0
}
